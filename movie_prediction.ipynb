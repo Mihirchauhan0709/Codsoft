{
 "cells": [
  {
   "cell_type": "code",
   "execution_count": 6,
   "id": "79f16de9",
   "metadata": {},
   "outputs": [
    {
     "name": "stdout",
     "output_type": "stream",
     "text": [
      "['movies.dat', 'ratings.dat', 'users.dat']\n"
     ]
    },
    {
     "data": {
      "text/plain": [
       "['users.dat', 'ratings.dat', 'movies.dat']"
      ]
     },
     "execution_count": 6,
     "metadata": {},
     "output_type": "execute_result"
    }
   ],
   "source": [
    "import numpy as np # linear algebra\n",
    "import pandas as pd # data processing, CSV file I/O (e.g. pd.read_csv)\n",
    "\n",
    "# Input data files are available in the \"../input/\" directory.\n",
    "# For example, running this (by clicking run or pressing Shift+Enter) will list the files in the input directory\n",
    "\n",
    "import os\n",
    "print(os.listdir(\"input\"))\n",
    "\n",
    "# Any results you write to the current directory are saved as output.\n",
    "['users.dat', 'ratings.dat', 'movies.dat']"
   ]
  },
  {
   "cell_type": "code",
   "execution_count": 7,
   "id": "ef35b454",
   "metadata": {},
   "outputs": [],
   "source": [
    "# data analysis and wrangling\n",
    "import pandas as pd\n",
    "import numpy as np\n",
    "import random as rnd\n",
    "\n",
    "# visualization\n",
    "import seaborn as sns\n",
    "import matplotlib.pyplot as plt\n",
    "%matplotlib inline\n",
    "\n",
    "# machine learning\n",
    "from sklearn.model_selection import train_test_split\n",
    "from sklearn.linear_model import LogisticRegression\n",
    "from sklearn.svm import SVC, LinearSVC\n",
    "from sklearn.ensemble import RandomForestClassifier\n",
    "from sklearn.neighbors import KNeighborsClassifier\n",
    "from sklearn.naive_bayes import GaussianNB\n",
    "from sklearn.linear_model import Perceptron\n",
    "from sklearn.linear_model import SGDClassifier\n",
    "from sklearn.tree import DecisionTreeClassifier"
   ]
  },
  {
   "cell_type": "code",
   "execution_count": 11,
   "id": "85cbd2ed",
   "metadata": {},
   "outputs": [
    {
     "data": {
      "text/html": [
       "<div>\n",
       "<style scoped>\n",
       "    .dataframe tbody tr th:only-of-type {\n",
       "        vertical-align: middle;\n",
       "    }\n",
       "\n",
       "    .dataframe tbody tr th {\n",
       "        vertical-align: top;\n",
       "    }\n",
       "\n",
       "    .dataframe thead th {\n",
       "        text-align: right;\n",
       "    }\n",
       "</style>\n",
       "<table border=\"1\" class=\"dataframe\">\n",
       "  <thead>\n",
       "    <tr style=\"text-align: right;\">\n",
       "      <th></th>\n",
       "      <th>MovieIDs</th>\n",
       "      <th>MovieName</th>\n",
       "      <th>Category</th>\n",
       "    </tr>\n",
       "  </thead>\n",
       "  <tbody>\n",
       "    <tr>\n",
       "      <th>0</th>\n",
       "      <td>2</td>\n",
       "      <td>Jumanji (1995)</td>\n",
       "      <td>Adventure|Children's|Fantasy</td>\n",
       "    </tr>\n",
       "    <tr>\n",
       "      <th>1</th>\n",
       "      <td>3</td>\n",
       "      <td>Grumpier Old Men (1995)</td>\n",
       "      <td>Comedy|Romance</td>\n",
       "    </tr>\n",
       "    <tr>\n",
       "      <th>2</th>\n",
       "      <td>4</td>\n",
       "      <td>Waiting to Exhale (1995)</td>\n",
       "      <td>Comedy|Drama</td>\n",
       "    </tr>\n",
       "    <tr>\n",
       "      <th>3</th>\n",
       "      <td>5</td>\n",
       "      <td>Father of the Bride Part II (1995)</td>\n",
       "      <td>Comedy</td>\n",
       "    </tr>\n",
       "    <tr>\n",
       "      <th>4</th>\n",
       "      <td>6</td>\n",
       "      <td>Heat (1995)</td>\n",
       "      <td>Action|Crime|Thriller</td>\n",
       "    </tr>\n",
       "  </tbody>\n",
       "</table>\n",
       "</div>"
      ],
      "text/plain": [
       "   MovieIDs                           MovieName                      Category\n",
       "0         2                      Jumanji (1995)  Adventure|Children's|Fantasy\n",
       "1         3             Grumpier Old Men (1995)                Comedy|Romance\n",
       "2         4            Waiting to Exhale (1995)                  Comedy|Drama\n",
       "3         5  Father of the Bride Part II (1995)                        Comedy\n",
       "4         6                         Heat (1995)         Action|Crime|Thriller"
      ]
     },
     "execution_count": 11,
     "metadata": {},
     "output_type": "execute_result"
    }
   ],
   "source": [
    "#Data acquisition of the movies dataset\n",
    "df_movie=pd.read_csv('input/movies.dat', sep = '::', engine='python', encoding='latin-1')\n",
    "df_movie.columns =['MovieIDs','MovieName','Category']\n",
    "df_movie.dropna(inplace=True)\n",
    "df_movie.head()"
   ]
  },
  {
   "cell_type": "code",
   "execution_count": 12,
   "id": "c0225336",
   "metadata": {},
   "outputs": [
    {
     "data": {
      "text/html": [
       "<div>\n",
       "<style scoped>\n",
       "    .dataframe tbody tr th:only-of-type {\n",
       "        vertical-align: middle;\n",
       "    }\n",
       "\n",
       "    .dataframe tbody tr th {\n",
       "        vertical-align: top;\n",
       "    }\n",
       "\n",
       "    .dataframe thead th {\n",
       "        text-align: right;\n",
       "    }\n",
       "</style>\n",
       "<table border=\"1\" class=\"dataframe\">\n",
       "  <thead>\n",
       "    <tr style=\"text-align: right;\">\n",
       "      <th></th>\n",
       "      <th>ID</th>\n",
       "      <th>MovieID</th>\n",
       "      <th>Ratings</th>\n",
       "      <th>TimeStamp</th>\n",
       "    </tr>\n",
       "  </thead>\n",
       "  <tbody>\n",
       "    <tr>\n",
       "      <th>0</th>\n",
       "      <td>1</td>\n",
       "      <td>661</td>\n",
       "      <td>3</td>\n",
       "      <td>978302109</td>\n",
       "    </tr>\n",
       "    <tr>\n",
       "      <th>1</th>\n",
       "      <td>1</td>\n",
       "      <td>914</td>\n",
       "      <td>3</td>\n",
       "      <td>978301968</td>\n",
       "    </tr>\n",
       "    <tr>\n",
       "      <th>2</th>\n",
       "      <td>1</td>\n",
       "      <td>3408</td>\n",
       "      <td>4</td>\n",
       "      <td>978300275</td>\n",
       "    </tr>\n",
       "    <tr>\n",
       "      <th>3</th>\n",
       "      <td>1</td>\n",
       "      <td>2355</td>\n",
       "      <td>5</td>\n",
       "      <td>978824291</td>\n",
       "    </tr>\n",
       "    <tr>\n",
       "      <th>4</th>\n",
       "      <td>1</td>\n",
       "      <td>1197</td>\n",
       "      <td>3</td>\n",
       "      <td>978302268</td>\n",
       "    </tr>\n",
       "  </tbody>\n",
       "</table>\n",
       "</div>"
      ],
      "text/plain": [
       "   ID  MovieID  Ratings  TimeStamp\n",
       "0   1      661        3  978302109\n",
       "1   1      914        3  978301968\n",
       "2   1     3408        4  978300275\n",
       "3   1     2355        5  978824291\n",
       "4   1     1197        3  978302268"
      ]
     },
     "execution_count": 12,
     "metadata": {},
     "output_type": "execute_result"
    }
   ],
   "source": [
    "#Data acquisition of the rating dataset\n",
    "df_rating = pd.read_csv(\"input/ratings.dat\",sep='::', engine='python', encoding='latin-1')\n",
    "df_rating.columns =['ID','MovieID','Ratings','TimeStamp']\n",
    "df_rating.dropna(inplace=True)\n",
    "df_rating.head()"
   ]
  },
  {
   "cell_type": "code",
   "execution_count": null,
   "id": "d88c7ff1",
   "metadata": {},
   "outputs": [],
   "source": [
    "#Data acquisition of the users dataset\n",
    "df_user = pd.read_csv(\"input/users.dat\",sep='::',engine='python', encoding='latin-1')\n",
    "df_user.columns =['UserID','Gender','Age','Occupation','Zip-code']\n",
    "df_user.dropna(inplace=True)\n",
    "df_user.head()"
   ]
  },
  {
   "cell_type": "code",
   "execution_count": null,
   "id": "5b00a4a7",
   "metadata": {},
   "outputs": [],
   "source": [
    "df = pd.concat([df_movie, df_rating,df_user], axis=1)\n",
    "df.head()"
   ]
  },
  {
   "cell_type": "code",
   "execution_count": null,
   "id": "8e7600c6",
   "metadata": {},
   "outputs": [],
   "source": [
    "#Visualize user age distribution\n",
    "df['Age'].value_counts().plot(kind='barh',alpha=0.7,figsize=(10,10))\n",
    "plt.show()"
   ]
  },
  {
   "cell_type": "code",
   "execution_count": null,
   "id": "7e92a58e",
   "metadata": {},
   "outputs": [],
   "source": [
    "df.Age.plot.hist(bins=25)\n",
    "plt.title(\"Distribution of users' ages\")\n",
    "plt.ylabel('count of users')\n",
    "plt.xlabel('Age')"
   ]
  },
  {
   "cell_type": "code",
   "execution_count": null,
   "id": "65f164b6",
   "metadata": {},
   "outputs": [],
   "source": [
    "labels = ['0-9', '10-19', '20-29', '30-39', '40-49', '50-59', '60-69', '70-79']\n",
    "df['age_group'] = pd.cut(df.Age, range(0, 81, 10), right=False, labels=labels)\n",
    "df[['Age', 'age_group']].drop_duplicates()[:10]"
   ]
  },
  {
   "cell_type": "code",
   "execution_count": null,
   "id": "61512761",
   "metadata": {},
   "outputs": [],
   "source": [
    "#Visualize overall rating by users\n",
    "df['Ratings'].value_counts().plot(kind='bar',alpha=0.7,figsize=(10,10))\n",
    "plt.show()"
   ]
  },
  {
   "cell_type": "code",
   "execution_count": null,
   "id": "2e43b89a",
   "metadata": {},
   "outputs": [],
   "source": [
    "groupedby_movieName = df.groupby('MovieName')\n",
    "groupedby_rating = df.groupby('Ratings')\n",
    "groupedby_uid = df.groupby('UserID')\n",
    "#groupedby_age = df.loc[most_50.index].groupby(['MovieName', 'age_group'])"
   ]
  },
  {
   "cell_type": "code",
   "execution_count": null,
   "id": "ebc66f43",
   "metadata": {},
   "outputs": [],
   "source": [
    "movies = df.groupby('MovieName').size().sort_values(ascending=True)[:1000]\n",
    "print(movies)"
   ]
  },
  {
   "cell_type": "code",
   "execution_count": null,
   "id": "2aa77f55",
   "metadata": {},
   "outputs": [],
   "source": [
    "ToyStory_data = groupedby_movieName.get_group('Toy Story 2 (1999)')\n",
    "ToyStory_data.shape"
   ]
  },
  {
   "cell_type": "code",
   "execution_count": null,
   "id": "7f717318",
   "metadata": {},
   "outputs": [],
   "source": [
    "#Find and visualize the user rating of the movie “Toy Story”\n",
    "plt.figure(figsize=(10,10))\n",
    "plt.scatter(ToyStory_data['MovieName'],ToyStory_data['Ratings'])\n",
    "plt.title('Plot showing  the user rating of the movie “Toy Story”')\n",
    "plt.show()"
   ]
  },
  {
   "cell_type": "code",
   "execution_count": null,
   "id": "a3c2a83e",
   "metadata": {},
   "outputs": [],
   "source": [
    "#Find and visualize the viewership of the movie “Toy Story” by age group\n",
    "ToyStory_data[['MovieName','age_group']]"
   ]
  },
  {
   "cell_type": "code",
   "execution_count": null,
   "id": "ea920cb7",
   "metadata": {},
   "outputs": [],
   "source": [
    "#Find and visualize the top 25 movies by viewership rating\n",
    "top_25 = df[25:]\n",
    "top_25['Ratings'].value_counts().plot(kind='barh',alpha=0.6,figsize=(7,7))\n",
    "plt.show()"
   ]
  },
  {
   "cell_type": "code",
   "execution_count": null,
   "id": "149ed50f",
   "metadata": {},
   "outputs": [],
   "source": [
    "#Visualize the rating data by user of user id = 2696\n",
    "userid_2696 = groupedby_uid.get_group(2696)\n",
    "userid_2696[['UserID','Ratings']]"
   ]
  },
  {
   "cell_type": "code",
   "execution_count": null,
   "id": "2b661d8e",
   "metadata": {},
   "outputs": [],
   "source": [
    "#First 500 extracted records\n",
    "first_500 = df[500:]\n",
    "first_500.dropna(inplace=True)"
   ]
  },
  {
   "cell_type": "code",
   "execution_count": null,
   "id": "9491a937",
   "metadata": {},
   "outputs": [],
   "source": [
    "#Use the following features:movie id,age,occupation\n",
    "features = first_500[['MovieID','Age','Occupation']].values"
   ]
  },
  {
   "cell_type": "code",
   "execution_count": null,
   "id": "a31294c7",
   "metadata": {},
   "outputs": [],
   "source": [
    "#Use rating as label\n",
    "labels = first_500[['Ratings']].values"
   ]
  },
  {
   "cell_type": "code",
   "execution_count": null,
   "id": "9c2615d1",
   "metadata": {},
   "outputs": [],
   "source": [
    "#Create train and test data set\n",
    "train, test, train_labels, test_labels = train_test_split(features,labels,test_size=0.33,random_state=42)"
   ]
  },
  {
   "cell_type": "code",
   "execution_count": null,
   "id": "ac4cbe3f",
   "metadata": {},
   "outputs": [],
   "source": [
    "#Create a histogram for movie\n",
    "df.Age.plot.hist(bins=25)\n",
    "plt.title(\"Movie & Rating\")\n",
    "plt.ylabel('MovieID')\n",
    "plt.xlabel('Ratings')"
   ]
  },
  {
   "cell_type": "code",
   "execution_count": null,
   "id": "53d9b07d",
   "metadata": {},
   "outputs": [],
   "source": [
    "#Create a histogram for age\n",
    "df.Age.plot.hist(bins=25)\n",
    "plt.title(\"Age & Rating\")\n",
    "plt.ylabel('Age')\n",
    "plt.xlabel('Ratings')"
   ]
  },
  {
   "cell_type": "code",
   "execution_count": null,
   "id": "7211242d",
   "metadata": {},
   "outputs": [],
   "source": [
    "#Create a histogram for occupation\n",
    "df.Age.plot.hist(bins=25)\n",
    "plt.title(\"Occupation & Rating\")\n",
    "plt.ylabel('Occupation')\n",
    "plt.xlabel('Ratings')"
   ]
  },
  {
   "cell_type": "code",
   "execution_count": null,
   "id": "9f01d71b",
   "metadata": {},
   "outputs": [],
   "source": [
    "# Logistic Regression\n",
    "\n",
    "logreg = LogisticRegression()\n",
    "logreg.fit(train, train_labels)\n",
    "Y_pred = logreg.predict(test)\n",
    "acc_log = round(logreg.score(train, train_labels) * 100, 2)\n",
    "acc_log"
   ]
  },
  {
   "cell_type": "code",
   "execution_count": null,
   "id": "6dbe4f47",
   "metadata": {},
   "outputs": [],
   "source": [
    "# Support Vector Machines\n",
    "\n",
    "svc = SVC()\n",
    "svc.fit(train, train_labels)\n",
    "Y_pred = svc.predict(test)\n",
    "acc_svc = round(svc.score(train, train_labels) * 100, 2)\n",
    "acc_svc"
   ]
  },
  {
   "cell_type": "code",
   "execution_count": null,
   "id": "d8f7a429",
   "metadata": {},
   "outputs": [],
   "source": [
    "# K Nearest Neighbors Classifier\n",
    "\n",
    "knn = KNeighborsClassifier(n_neighbors = 3)\n",
    "knn.fit(train, train_labels)\n",
    "Y_pred = knn.predict(test)\n",
    "acc_knn = round(knn.score(train, train_labels) * 100, 2)\n",
    "acc_knn"
   ]
  },
  {
   "cell_type": "code",
   "execution_count": null,
   "id": "39772940",
   "metadata": {},
   "outputs": [],
   "source": [
    "# Gaussian Naive Bayes\n",
    "\n",
    "gaussian = GaussianNB()\n",
    "gaussian.fit(train, train_labels)\n",
    "Y_pred = gaussian.predict(test)\n",
    "acc_gaussian = round(gaussian.score(train, train_labels) * 100, 2)\n",
    "acc_gaussian"
   ]
  },
  {
   "cell_type": "code",
   "execution_count": null,
   "id": "32984367",
   "metadata": {},
   "outputs": [],
   "source": [
    "# Perceptron\n",
    "\n",
    "perceptron = Perceptron()\n",
    "perceptron.fit(train, train_labels)\n",
    "Y_pred = perceptron.predict(test)\n",
    "acc_perceptron = round(perceptron.score(train, train_labels) * 100, 2)\n",
    "acc_perceptron"
   ]
  },
  {
   "cell_type": "code",
   "execution_count": null,
   "id": "ca04389d",
   "metadata": {},
   "outputs": [],
   "source": [
    "# Linear SVC\n",
    "\n",
    "linear_svc = LinearSVC()\n",
    "linear_svc.fit(train, train_labels)\n",
    "Y_pred = linear_svc.predict(test)\n",
    "acc_linear_svc = round(linear_svc.score(train, train_labels) * 100, 2)\n",
    "acc_linear_svc"
   ]
  },
  {
   "cell_type": "code",
   "execution_count": null,
   "id": "73b01f5b",
   "metadata": {},
   "outputs": [],
   "source": [
    "# Stochastic Gradient Descent\n",
    "\n",
    "sgd = SGDClassifier()\n",
    "sgd.fit(train, train_labels)\n",
    "Y_pred = sgd.predict(test)\n",
    "acc_sgd = round(sgd.score(train, train_labels) * 100, 2)\n",
    "acc_sgd"
   ]
  },
  {
   "cell_type": "code",
   "execution_count": null,
   "id": "e5d65c10",
   "metadata": {},
   "outputs": [],
   "source": [
    "# Decision Tree\n",
    "\n",
    "decision_tree = DecisionTreeClassifier()\n",
    "decision_tree.fit(train, train_labels)\n",
    "Y_pred = decision_tree.predict(test)\n",
    "acc_decision_tree = round(decision_tree.score(train, train_labels) * 100, 2)\n",
    "acc_decision_tree"
   ]
  },
  {
   "cell_type": "code",
   "execution_count": null,
   "id": "3028213d",
   "metadata": {},
   "outputs": [],
   "source": [
    "# Random Forest\n",
    "\n",
    "random_forest = RandomForestClassifier(n_estimators=100)\n",
    "random_forest.fit(train, train_labels)\n",
    "Y_pred = random_forest.predict(test)\n",
    "random_forest.score(train, train_labels)\n",
    "acc_random_forest = round(random_forest.score(train, train_labels) * 100, 2)\n",
    "acc_random_forest"
   ]
  },
  {
   "cell_type": "code",
   "execution_count": null,
   "id": "5bfff62a",
   "metadata": {},
   "outputs": [],
   "source": [
    "models = pd.DataFrame({\n",
    "    'Model': ['Support Vector Machines', 'KNN', 'Logistic Regression', \n",
    "              'Random Forest', 'Naive Bayes', 'Perceptron', \n",
    "              'Stochastic Gradient Decent', 'Linear SVC', \n",
    "              'Decision Tree'],\n",
    "    'Score': [acc_svc, acc_knn, acc_log, \n",
    "              acc_random_forest, acc_gaussian, acc_perceptron, \n",
    "              acc_sgd, acc_linear_svc, acc_decision_tree]})\n",
    "models.sort_values(by='Score', ascending=False)"
   ]
  }
 ],
 "metadata": {
  "kernelspec": {
   "display_name": "Python 3 (ipykernel)",
   "language": "python",
   "name": "python3"
  },
  "language_info": {
   "codemirror_mode": {
    "name": "ipython",
    "version": 3
   },
   "file_extension": ".py",
   "mimetype": "text/x-python",
   "name": "python",
   "nbconvert_exporter": "python",
   "pygments_lexer": "ipython3",
   "version": "3.9.7"
  }
 },
 "nbformat": 4,
 "nbformat_minor": 5
}
